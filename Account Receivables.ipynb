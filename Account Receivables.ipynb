{
 "cells": [
  {
   "cell_type": "code",
   "execution_count": 90,
   "metadata": {},
   "outputs": [],
   "source": [
    "import pandas as pd\n",
    "import numpy as np\n",
    "import matplotlib.pyplot as plt\n",
    "import warnings\n",
    "warnings.filterwarnings('ignore')"
   ]
  },
  {
   "cell_type": "code",
   "execution_count": 147,
   "metadata": {},
   "outputs": [],
   "source": [
    "pay = pd.read_csv('WA_Fn-UseC_-Accounts-Receivable.csv')"
   ]
  },
  {
   "cell_type": "code",
   "execution_count": 148,
   "metadata": {},
   "outputs": [
    {
     "data": {
      "text/html": [
       "<div>\n",
       "<style scoped>\n",
       "    .dataframe tbody tr th:only-of-type {\n",
       "        vertical-align: middle;\n",
       "    }\n",
       "\n",
       "    .dataframe tbody tr th {\n",
       "        vertical-align: top;\n",
       "    }\n",
       "\n",
       "    .dataframe thead th {\n",
       "        text-align: right;\n",
       "    }\n",
       "</style>\n",
       "<table border=\"1\" class=\"dataframe\">\n",
       "  <thead>\n",
       "    <tr style=\"text-align: right;\">\n",
       "      <th></th>\n",
       "      <th>countryCode</th>\n",
       "      <th>customerID</th>\n",
       "      <th>PaperlessDate</th>\n",
       "      <th>invoiceNumber</th>\n",
       "      <th>InvoiceDate</th>\n",
       "      <th>DueDate</th>\n",
       "      <th>InvoiceAmount</th>\n",
       "      <th>Disputed</th>\n",
       "      <th>SettledDate</th>\n",
       "      <th>PaperlessBill</th>\n",
       "      <th>DaysToSettle</th>\n",
       "      <th>DaysLate</th>\n",
       "    </tr>\n",
       "  </thead>\n",
       "  <tbody>\n",
       "    <tr>\n",
       "      <th>0</th>\n",
       "      <td>391</td>\n",
       "      <td>0379-NEVHP</td>\n",
       "      <td>4/6/2013</td>\n",
       "      <td>611365</td>\n",
       "      <td>1/2/2013</td>\n",
       "      <td>2/1/2013</td>\n",
       "      <td>55.94</td>\n",
       "      <td>No</td>\n",
       "      <td>1/15/2013</td>\n",
       "      <td>Paper</td>\n",
       "      <td>13</td>\n",
       "      <td>0</td>\n",
       "    </tr>\n",
       "    <tr>\n",
       "      <th>1</th>\n",
       "      <td>406</td>\n",
       "      <td>8976-AMJEO</td>\n",
       "      <td>3/3/2012</td>\n",
       "      <td>7900770</td>\n",
       "      <td>1/26/2013</td>\n",
       "      <td>2/25/2013</td>\n",
       "      <td>61.74</td>\n",
       "      <td>Yes</td>\n",
       "      <td>3/3/2013</td>\n",
       "      <td>Electronic</td>\n",
       "      <td>36</td>\n",
       "      <td>6</td>\n",
       "    </tr>\n",
       "    <tr>\n",
       "      <th>2</th>\n",
       "      <td>391</td>\n",
       "      <td>2820-XGXSB</td>\n",
       "      <td>1/26/2012</td>\n",
       "      <td>9231909</td>\n",
       "      <td>7/3/2013</td>\n",
       "      <td>8/2/2013</td>\n",
       "      <td>65.88</td>\n",
       "      <td>No</td>\n",
       "      <td>7/8/2013</td>\n",
       "      <td>Electronic</td>\n",
       "      <td>5</td>\n",
       "      <td>0</td>\n",
       "    </tr>\n",
       "    <tr>\n",
       "      <th>3</th>\n",
       "      <td>406</td>\n",
       "      <td>9322-YCTQO</td>\n",
       "      <td>4/6/2012</td>\n",
       "      <td>9888306</td>\n",
       "      <td>2/10/2013</td>\n",
       "      <td>3/12/2013</td>\n",
       "      <td>105.92</td>\n",
       "      <td>No</td>\n",
       "      <td>3/17/2013</td>\n",
       "      <td>Electronic</td>\n",
       "      <td>35</td>\n",
       "      <td>5</td>\n",
       "    </tr>\n",
       "    <tr>\n",
       "      <th>4</th>\n",
       "      <td>818</td>\n",
       "      <td>6627-ELFBK</td>\n",
       "      <td>11/26/2012</td>\n",
       "      <td>15752855</td>\n",
       "      <td>10/25/2012</td>\n",
       "      <td>11/24/2012</td>\n",
       "      <td>72.27</td>\n",
       "      <td>Yes</td>\n",
       "      <td>11/28/2012</td>\n",
       "      <td>Paper</td>\n",
       "      <td>34</td>\n",
       "      <td>4</td>\n",
       "    </tr>\n",
       "  </tbody>\n",
       "</table>\n",
       "</div>"
      ],
      "text/plain": [
       "   countryCode  customerID PaperlessDate  invoiceNumber InvoiceDate  \\\n",
       "0          391  0379-NEVHP      4/6/2013         611365    1/2/2013   \n",
       "1          406  8976-AMJEO      3/3/2012        7900770   1/26/2013   \n",
       "2          391  2820-XGXSB     1/26/2012        9231909    7/3/2013   \n",
       "3          406  9322-YCTQO      4/6/2012        9888306   2/10/2013   \n",
       "4          818  6627-ELFBK    11/26/2012       15752855  10/25/2012   \n",
       "\n",
       "      DueDate  InvoiceAmount Disputed SettledDate PaperlessBill  DaysToSettle  \\\n",
       "0    2/1/2013          55.94       No   1/15/2013         Paper            13   \n",
       "1   2/25/2013          61.74      Yes    3/3/2013    Electronic            36   \n",
       "2    8/2/2013          65.88       No    7/8/2013    Electronic             5   \n",
       "3   3/12/2013         105.92       No   3/17/2013    Electronic            35   \n",
       "4  11/24/2012          72.27      Yes  11/28/2012         Paper            34   \n",
       "\n",
       "   DaysLate  \n",
       "0         0  \n",
       "1         6  \n",
       "2         0  \n",
       "3         5  \n",
       "4         4  "
      ]
     },
     "execution_count": 148,
     "metadata": {},
     "output_type": "execute_result"
    }
   ],
   "source": [
    "pay.head()"
   ]
  },
  {
   "cell_type": "code",
   "execution_count": 149,
   "metadata": {},
   "outputs": [
    {
     "data": {
      "text/plain": [
       "customerID\n",
       "2621-XCLEH    15\n",
       "0187-ERLSR    16\n",
       "7245-CKNCN    17\n",
       "3676-CQAIF    17\n",
       "4632-QZOKX    17\n",
       "              ..\n",
       "9286-VLKMI    34\n",
       "0688-XNJRO    34\n",
       "4640-FGEJI    35\n",
       "8887-NCUZC    35\n",
       "9149-MATVB    36\n",
       "Name: countryCode, Length: 100, dtype: int64"
      ]
     },
     "execution_count": 149,
     "metadata": {},
     "output_type": "execute_result"
    }
   ],
   "source": [
    "pay.groupby('customerID')['countryCode'].count().sort_values()"
   ]
  },
  {
   "cell_type": "code",
   "execution_count": 150,
   "metadata": {},
   "outputs": [],
   "source": [
    "pay['PaperlessDate'] = pd.to_datetime(pay['PaperlessDate'])\n",
    "pay['InvoiceDate'] = pd.to_datetime(pay['InvoiceDate'])\n",
    "pay['DueDate'] = pd.to_datetime(pay['DueDate'])\n",
    "pay['SettledDate'] = pd.to_datetime(pay['SettledDate'])\n",
    "pay['countryCode'] = pay['countryCode'].astype(str)\n",
    "pay['PaymentTerm'] = (pay['DueDate'] - pay['InvoiceDate']).dt.days"
   ]
  },
  {
   "cell_type": "code",
   "execution_count": 151,
   "metadata": {
    "scrolled": true
   },
   "outputs": [
    {
     "data": {
      "text/html": [
       "<div>\n",
       "<style scoped>\n",
       "    .dataframe tbody tr th:only-of-type {\n",
       "        vertical-align: middle;\n",
       "    }\n",
       "\n",
       "    .dataframe tbody tr th {\n",
       "        vertical-align: top;\n",
       "    }\n",
       "\n",
       "    .dataframe thead th {\n",
       "        text-align: right;\n",
       "    }\n",
       "</style>\n",
       "<table border=\"1\" class=\"dataframe\">\n",
       "  <thead>\n",
       "    <tr style=\"text-align: right;\">\n",
       "      <th></th>\n",
       "      <th>countryCode</th>\n",
       "      <th>customerID</th>\n",
       "      <th>PaperlessDate</th>\n",
       "      <th>invoiceNumber</th>\n",
       "      <th>InvoiceDate</th>\n",
       "      <th>DueDate</th>\n",
       "      <th>InvoiceAmount</th>\n",
       "      <th>Disputed</th>\n",
       "      <th>SettledDate</th>\n",
       "      <th>PaperlessBill</th>\n",
       "      <th>DaysToSettle</th>\n",
       "      <th>DaysLate</th>\n",
       "      <th>PaymentTerm</th>\n",
       "    </tr>\n",
       "  </thead>\n",
       "  <tbody>\n",
       "    <tr>\n",
       "      <th>0</th>\n",
       "      <td>391</td>\n",
       "      <td>0379-NEVHP</td>\n",
       "      <td>2013-04-06</td>\n",
       "      <td>611365</td>\n",
       "      <td>2013-01-02</td>\n",
       "      <td>2013-02-01</td>\n",
       "      <td>55.94</td>\n",
       "      <td>No</td>\n",
       "      <td>2013-01-15</td>\n",
       "      <td>Paper</td>\n",
       "      <td>13</td>\n",
       "      <td>0</td>\n",
       "      <td>30</td>\n",
       "    </tr>\n",
       "    <tr>\n",
       "      <th>1</th>\n",
       "      <td>406</td>\n",
       "      <td>8976-AMJEO</td>\n",
       "      <td>2012-03-03</td>\n",
       "      <td>7900770</td>\n",
       "      <td>2013-01-26</td>\n",
       "      <td>2013-02-25</td>\n",
       "      <td>61.74</td>\n",
       "      <td>Yes</td>\n",
       "      <td>2013-03-03</td>\n",
       "      <td>Electronic</td>\n",
       "      <td>36</td>\n",
       "      <td>6</td>\n",
       "      <td>30</td>\n",
       "    </tr>\n",
       "    <tr>\n",
       "      <th>2</th>\n",
       "      <td>391</td>\n",
       "      <td>2820-XGXSB</td>\n",
       "      <td>2012-01-26</td>\n",
       "      <td>9231909</td>\n",
       "      <td>2013-07-03</td>\n",
       "      <td>2013-08-02</td>\n",
       "      <td>65.88</td>\n",
       "      <td>No</td>\n",
       "      <td>2013-07-08</td>\n",
       "      <td>Electronic</td>\n",
       "      <td>5</td>\n",
       "      <td>0</td>\n",
       "      <td>30</td>\n",
       "    </tr>\n",
       "    <tr>\n",
       "      <th>3</th>\n",
       "      <td>406</td>\n",
       "      <td>9322-YCTQO</td>\n",
       "      <td>2012-04-06</td>\n",
       "      <td>9888306</td>\n",
       "      <td>2013-02-10</td>\n",
       "      <td>2013-03-12</td>\n",
       "      <td>105.92</td>\n",
       "      <td>No</td>\n",
       "      <td>2013-03-17</td>\n",
       "      <td>Electronic</td>\n",
       "      <td>35</td>\n",
       "      <td>5</td>\n",
       "      <td>30</td>\n",
       "    </tr>\n",
       "    <tr>\n",
       "      <th>4</th>\n",
       "      <td>818</td>\n",
       "      <td>6627-ELFBK</td>\n",
       "      <td>2012-11-26</td>\n",
       "      <td>15752855</td>\n",
       "      <td>2012-10-25</td>\n",
       "      <td>2012-11-24</td>\n",
       "      <td>72.27</td>\n",
       "      <td>Yes</td>\n",
       "      <td>2012-11-28</td>\n",
       "      <td>Paper</td>\n",
       "      <td>34</td>\n",
       "      <td>4</td>\n",
       "      <td>30</td>\n",
       "    </tr>\n",
       "  </tbody>\n",
       "</table>\n",
       "</div>"
      ],
      "text/plain": [
       "  countryCode  customerID PaperlessDate  invoiceNumber InvoiceDate    DueDate  \\\n",
       "0         391  0379-NEVHP    2013-04-06         611365  2013-01-02 2013-02-01   \n",
       "1         406  8976-AMJEO    2012-03-03        7900770  2013-01-26 2013-02-25   \n",
       "2         391  2820-XGXSB    2012-01-26        9231909  2013-07-03 2013-08-02   \n",
       "3         406  9322-YCTQO    2012-04-06        9888306  2013-02-10 2013-03-12   \n",
       "4         818  6627-ELFBK    2012-11-26       15752855  2012-10-25 2012-11-24   \n",
       "\n",
       "   InvoiceAmount Disputed SettledDate PaperlessBill  DaysToSettle  DaysLate  \\\n",
       "0          55.94       No  2013-01-15         Paper            13         0   \n",
       "1          61.74      Yes  2013-03-03    Electronic            36         6   \n",
       "2          65.88       No  2013-07-08    Electronic             5         0   \n",
       "3         105.92       No  2013-03-17    Electronic            35         5   \n",
       "4          72.27      Yes  2012-11-28         Paper            34         4   \n",
       "\n",
       "   PaymentTerm  \n",
       "0           30  \n",
       "1           30  \n",
       "2           30  \n",
       "3           30  \n",
       "4           30  "
      ]
     },
     "execution_count": 151,
     "metadata": {},
     "output_type": "execute_result"
    }
   ],
   "source": [
    "pay.head()"
   ]
  },
  {
   "cell_type": "code",
   "execution_count": 152,
   "metadata": {},
   "outputs": [
    {
     "data": {
      "text/plain": [
       "<matplotlib.axes._subplots.AxesSubplot at 0x21ff00546d8>"
      ]
     },
     "execution_count": 152,
     "metadata": {},
     "output_type": "execute_result"
    },
    {
     "data": {
      "image/png": "[encoded data removed]",
      "text/plain": [
       "<Figure size 432x288 with 1 Axes>"
      ]
     },
     "metadata": {
      "needs_background": "light"
     },
     "output_type": "display_data"
    }
   ],
   "source": [
    "pay[pay['DaysLate']>0]['DaysLate'].hist(bins=100)"
   ]
  },
  {
   "cell_type": "code",
   "execution_count": 153,
   "metadata": {},
   "outputs": [],
   "source": [
    "pay.loc[pay['DaysLate']==0,'DaysLate_Code'] = 'on time'\n",
    "pay.loc[(pay['DaysLate']>0) & (pay['DaysLate']<11),'DaysLate_Code'] = '0-10 Days'\n",
    "pay.loc[(pay['DaysLate']>10) & (pay['DaysLate']<21),'DaysLate_Code'] = '11-20 Days'\n",
    "pay.loc[pay['DaysLate']>20,'DaysLate_Code'] = '20+ Days'"
   ]
  },
  {
   "cell_type": "code",
   "execution_count": 154,
   "metadata": {},
   "outputs": [
    {
     "data": {
      "text/html": [
       "<div>\n",
       "<style scoped>\n",
       "    .dataframe tbody tr th:only-of-type {\n",
       "        vertical-align: middle;\n",
       "    }\n",
       "\n",
       "    .dataframe tbody tr th {\n",
       "        vertical-align: top;\n",
       "    }\n",
       "\n",
       "    .dataframe thead th {\n",
       "        text-align: right;\n",
       "    }\n",
       "</style>\n",
       "<table border=\"1\" class=\"dataframe\">\n",
       "  <thead>\n",
       "    <tr style=\"text-align: right;\">\n",
       "      <th></th>\n",
       "      <th>countryCode</th>\n",
       "      <th>customerID</th>\n",
       "      <th>PaperlessDate</th>\n",
       "      <th>invoiceNumber</th>\n",
       "      <th>InvoiceDate</th>\n",
       "      <th>DueDate</th>\n",
       "      <th>InvoiceAmount</th>\n",
       "      <th>Disputed</th>\n",
       "      <th>SettledDate</th>\n",
       "      <th>PaperlessBill</th>\n",
       "      <th>DaysToSettle</th>\n",
       "      <th>DaysLate</th>\n",
       "      <th>PaymentTerm</th>\n",
       "      <th>DaysLate_Code</th>\n",
       "    </tr>\n",
       "  </thead>\n",
       "  <tbody>\n",
       "    <tr>\n",
       "      <th>0</th>\n",
       "      <td>391</td>\n",
       "      <td>0379-NEVHP</td>\n",
       "      <td>2013-04-06</td>\n",
       "      <td>611365</td>\n",
       "      <td>2013-01-02</td>\n",
       "      <td>2013-02-01</td>\n",
       "      <td>55.94</td>\n",
       "      <td>No</td>\n",
       "      <td>2013-01-15</td>\n",
       "      <td>Paper</td>\n",
       "      <td>13</td>\n",
       "      <td>0</td>\n",
       "      <td>30</td>\n",
       "      <td>on time</td>\n",
       "    </tr>\n",
       "    <tr>\n",
       "      <th>1</th>\n",
       "      <td>406</td>\n",
       "      <td>8976-AMJEO</td>\n",
       "      <td>2012-03-03</td>\n",
       "      <td>7900770</td>\n",
       "      <td>2013-01-26</td>\n",
       "      <td>2013-02-25</td>\n",
       "      <td>61.74</td>\n",
       "      <td>Yes</td>\n",
       "      <td>2013-03-03</td>\n",
       "      <td>Electronic</td>\n",
       "      <td>36</td>\n",
       "      <td>6</td>\n",
       "      <td>30</td>\n",
       "      <td>0-10 Days</td>\n",
       "    </tr>\n",
       "    <tr>\n",
       "      <th>2</th>\n",
       "      <td>391</td>\n",
       "      <td>2820-XGXSB</td>\n",
       "      <td>2012-01-26</td>\n",
       "      <td>9231909</td>\n",
       "      <td>2013-07-03</td>\n",
       "      <td>2013-08-02</td>\n",
       "      <td>65.88</td>\n",
       "      <td>No</td>\n",
       "      <td>2013-07-08</td>\n",
       "      <td>Electronic</td>\n",
       "      <td>5</td>\n",
       "      <td>0</td>\n",
       "      <td>30</td>\n",
       "      <td>on time</td>\n",
       "    </tr>\n",
       "    <tr>\n",
       "      <th>3</th>\n",
       "      <td>406</td>\n",
       "      <td>9322-YCTQO</td>\n",
       "      <td>2012-04-06</td>\n",
       "      <td>9888306</td>\n",
       "      <td>2013-02-10</td>\n",
       "      <td>2013-03-12</td>\n",
       "      <td>105.92</td>\n",
       "      <td>No</td>\n",
       "      <td>2013-03-17</td>\n",
       "      <td>Electronic</td>\n",
       "      <td>35</td>\n",
       "      <td>5</td>\n",
       "      <td>30</td>\n",
       "      <td>0-10 Days</td>\n",
       "    </tr>\n",
       "    <tr>\n",
       "      <th>4</th>\n",
       "      <td>818</td>\n",
       "      <td>6627-ELFBK</td>\n",
       "      <td>2012-11-26</td>\n",
       "      <td>15752855</td>\n",
       "      <td>2012-10-25</td>\n",
       "      <td>2012-11-24</td>\n",
       "      <td>72.27</td>\n",
       "      <td>Yes</td>\n",
       "      <td>2012-11-28</td>\n",
       "      <td>Paper</td>\n",
       "      <td>34</td>\n",
       "      <td>4</td>\n",
       "      <td>30</td>\n",
       "      <td>0-10 Days</td>\n",
       "    </tr>\n",
       "  </tbody>\n",
       "</table>\n",
       "</div>"
      ],
      "text/plain": [
       "  countryCode  customerID PaperlessDate  invoiceNumber InvoiceDate    DueDate  \\\n",
       "0         391  0379-NEVHP    2013-04-06         611365  2013-01-02 2013-02-01   \n",
       "1         406  8976-AMJEO    2012-03-03        7900770  2013-01-26 2013-02-25   \n",
       "2         391  2820-XGXSB    2012-01-26        9231909  2013-07-03 2013-08-02   \n",
       "3         406  9322-YCTQO    2012-04-06        9888306  2013-02-10 2013-03-12   \n",
       "4         818  6627-ELFBK    2012-11-26       15752855  2012-10-25 2012-11-24   \n",
       "\n",
       "   InvoiceAmount Disputed SettledDate PaperlessBill  DaysToSettle  DaysLate  \\\n",
       "0          55.94       No  2013-01-15         Paper            13         0   \n",
       "1          61.74      Yes  2013-03-03    Electronic            36         6   \n",
       "2          65.88       No  2013-07-08    Electronic             5         0   \n",
       "3         105.92       No  2013-03-17    Electronic            35         5   \n",
       "4          72.27      Yes  2012-11-28         Paper            34         4   \n",
       "\n",
       "   PaymentTerm DaysLate_Code  \n",
       "0           30       on time  \n",
       "1           30     0-10 Days  \n",
       "2           30       on time  \n",
       "3           30     0-10 Days  \n",
       "4           30     0-10 Days  "
      ]
     },
     "execution_count": 154,
     "metadata": {},
     "output_type": "execute_result"
    }
   ],
   "source": [
    "pay.head()"
   ]
  },
  {
   "cell_type": "code",
   "execution_count": 155,
   "metadata": {},
   "outputs": [
    {
     "data": {
      "image/png": "[encoded data removed]",
      "text/plain": [
       "<Figure size 432x288 with 1 Axes>"
      ]
     },
     "metadata": {
      "needs_background": "light"
     },
     "output_type": "display_data"
    }
   ],
   "source": [
    "category_count=pay.groupby('DaysLate_Code').count().sort_values(by='customerID', ascending=False)\n",
    "plt.bar(category_count.index.values, category_count['customerID'])\n",
    "plt.xlabel('Late Category')\n",
    "plt.ylabel('Number of invoices')\n",
    "plt.show()"
   ]
  },
  {
   "cell_type": "code",
   "execution_count": 156,
   "metadata": {
    "scrolled": true
   },
   "outputs": [],
   "source": [
    "pay = pay.sort_values(by=['customerID','InvoiceDate'])"
   ]
  },
  {
   "cell_type": "code",
   "execution_count": 157,
   "metadata": {},
   "outputs": [
    {
     "data": {
      "text/html": [
       "<div>\n",
       "<style scoped>\n",
       "    .dataframe tbody tr th:only-of-type {\n",
       "        vertical-align: middle;\n",
       "    }\n",
       "\n",
       "    .dataframe tbody tr th {\n",
       "        vertical-align: top;\n",
       "    }\n",
       "\n",
       "    .dataframe thead th {\n",
       "        text-align: right;\n",
       "    }\n",
       "</style>\n",
       "<table border=\"1\" class=\"dataframe\">\n",
       "  <thead>\n",
       "    <tr style=\"text-align: right;\">\n",
       "      <th></th>\n",
       "      <th>countryCode</th>\n",
       "      <th>customerID</th>\n",
       "      <th>PaperlessDate</th>\n",
       "      <th>invoiceNumber</th>\n",
       "      <th>InvoiceDate</th>\n",
       "      <th>DueDate</th>\n",
       "      <th>InvoiceAmount</th>\n",
       "      <th>Disputed</th>\n",
       "      <th>SettledDate</th>\n",
       "      <th>PaperlessBill</th>\n",
       "      <th>DaysToSettle</th>\n",
       "      <th>DaysLate</th>\n",
       "      <th>PaymentTerm</th>\n",
       "      <th>DaysLate_Code</th>\n",
       "    </tr>\n",
       "  </thead>\n",
       "  <tbody>\n",
       "    <tr>\n",
       "      <th>991</th>\n",
       "      <td>391</td>\n",
       "      <td>0187-ERLSR</td>\n",
       "      <td>2013-07-31</td>\n",
       "      <td>4037644863</td>\n",
       "      <td>2012-03-29</td>\n",
       "      <td>2012-04-28</td>\n",
       "      <td>62.68</td>\n",
       "      <td>Yes</td>\n",
       "      <td>2012-04-25</td>\n",
       "      <td>Paper</td>\n",
       "      <td>27</td>\n",
       "      <td>0</td>\n",
       "      <td>30</td>\n",
       "      <td>on time</td>\n",
       "    </tr>\n",
       "    <tr>\n",
       "      <th>2345</th>\n",
       "      <td>391</td>\n",
       "      <td>0187-ERLSR</td>\n",
       "      <td>2013-07-31</td>\n",
       "      <td>9471530987</td>\n",
       "      <td>2012-05-15</td>\n",
       "      <td>2012-06-14</td>\n",
       "      <td>77.19</td>\n",
       "      <td>No</td>\n",
       "      <td>2012-05-28</td>\n",
       "      <td>Paper</td>\n",
       "      <td>13</td>\n",
       "      <td>0</td>\n",
       "      <td>30</td>\n",
       "      <td>on time</td>\n",
       "    </tr>\n",
       "    <tr>\n",
       "      <th>2401</th>\n",
       "      <td>391</td>\n",
       "      <td>0187-ERLSR</td>\n",
       "      <td>2013-07-31</td>\n",
       "      <td>9744145268</td>\n",
       "      <td>2012-05-21</td>\n",
       "      <td>2012-06-20</td>\n",
       "      <td>51.65</td>\n",
       "      <td>No</td>\n",
       "      <td>2012-06-04</td>\n",
       "      <td>Paper</td>\n",
       "      <td>14</td>\n",
       "      <td>0</td>\n",
       "      <td>30</td>\n",
       "      <td>on time</td>\n",
       "    </tr>\n",
       "    <tr>\n",
       "      <th>1791</th>\n",
       "      <td>391</td>\n",
       "      <td>0187-ERLSR</td>\n",
       "      <td>2013-07-31</td>\n",
       "      <td>7214076449</td>\n",
       "      <td>2012-06-16</td>\n",
       "      <td>2012-07-16</td>\n",
       "      <td>64.47</td>\n",
       "      <td>Yes</td>\n",
       "      <td>2012-07-04</td>\n",
       "      <td>Paper</td>\n",
       "      <td>18</td>\n",
       "      <td>0</td>\n",
       "      <td>30</td>\n",
       "      <td>on time</td>\n",
       "    </tr>\n",
       "    <tr>\n",
       "      <th>445</th>\n",
       "      <td>391</td>\n",
       "      <td>0187-ERLSR</td>\n",
       "      <td>2013-07-31</td>\n",
       "      <td>1756742390</td>\n",
       "      <td>2012-09-05</td>\n",
       "      <td>2012-10-05</td>\n",
       "      <td>84.57</td>\n",
       "      <td>No</td>\n",
       "      <td>2012-09-14</td>\n",
       "      <td>Paper</td>\n",
       "      <td>9</td>\n",
       "      <td>0</td>\n",
       "      <td>30</td>\n",
       "      <td>on time</td>\n",
       "    </tr>\n",
       "  </tbody>\n",
       "</table>\n",
       "</div>"
      ],
      "text/plain": [
       "     countryCode  customerID PaperlessDate  invoiceNumber InvoiceDate  \\\n",
       "991          391  0187-ERLSR    2013-07-31     4037644863  2012-03-29   \n",
       "2345         391  0187-ERLSR    2013-07-31     9471530987  2012-05-15   \n",
       "2401         391  0187-ERLSR    2013-07-31     9744145268  2012-05-21   \n",
       "1791         391  0187-ERLSR    2013-07-31     7214076449  2012-06-16   \n",
       "445          391  0187-ERLSR    2013-07-31     1756742390  2012-09-05   \n",
       "\n",
       "        DueDate  InvoiceAmount Disputed SettledDate PaperlessBill  \\\n",
       "991  2012-04-28          62.68      Yes  2012-04-25         Paper   \n",
       "2345 2012-06-14          77.19       No  2012-05-28         Paper   \n",
       "2401 2012-06-20          51.65       No  2012-06-04         Paper   \n",
       "1791 2012-07-16          64.47      Yes  2012-07-04         Paper   \n",
       "445  2012-10-05          84.57       No  2012-09-14         Paper   \n",
       "\n",
       "      DaysToSettle  DaysLate  PaymentTerm DaysLate_Code  \n",
       "991             27         0           30       on time  \n",
       "2345            13         0           30       on time  \n",
       "2401            14         0           30       on time  \n",
       "1791            18         0           30       on time  \n",
       "445              9         0           30       on time  "
      ]
     },
     "execution_count": 157,
     "metadata": {},
     "output_type": "execute_result"
    }
   ],
   "source": [
    "pay.head()"
   ]
  },
  {
   "cell_type": "code",
   "execution_count": 158,
   "metadata": {},
   "outputs": [],
   "source": [
    "pay = pay.drop(['PaperlessDate','invoiceNumber'],axis=1)"
   ]
  },
  {
   "cell_type": "code",
   "execution_count": 159,
   "metadata": {},
   "outputs": [
    {
     "data": {
      "text/html": [
       "<div>\n",
       "<style scoped>\n",
       "    .dataframe tbody tr th:only-of-type {\n",
       "        vertical-align: middle;\n",
       "    }\n",
       "\n",
       "    .dataframe tbody tr th {\n",
       "        vertical-align: top;\n",
       "    }\n",
       "\n",
       "    .dataframe thead th {\n",
       "        text-align: right;\n",
       "    }\n",
       "</style>\n",
       "<table border=\"1\" class=\"dataframe\">\n",
       "  <thead>\n",
       "    <tr style=\"text-align: right;\">\n",
       "      <th></th>\n",
       "      <th>countryCode</th>\n",
       "      <th>customerID</th>\n",
       "      <th>InvoiceDate</th>\n",
       "      <th>DueDate</th>\n",
       "      <th>InvoiceAmount</th>\n",
       "      <th>Disputed</th>\n",
       "      <th>SettledDate</th>\n",
       "      <th>PaperlessBill</th>\n",
       "      <th>DaysToSettle</th>\n",
       "      <th>DaysLate</th>\n",
       "      <th>PaymentTerm</th>\n",
       "      <th>DaysLate_Code</th>\n",
       "    </tr>\n",
       "  </thead>\n",
       "  <tbody>\n",
       "    <tr>\n",
       "      <th>991</th>\n",
       "      <td>391</td>\n",
       "      <td>0187-ERLSR</td>\n",
       "      <td>2012-03-29</td>\n",
       "      <td>2012-04-28</td>\n",
       "      <td>62.68</td>\n",
       "      <td>Yes</td>\n",
       "      <td>2012-04-25</td>\n",
       "      <td>Paper</td>\n",
       "      <td>27</td>\n",
       "      <td>0</td>\n",
       "      <td>30</td>\n",
       "      <td>on time</td>\n",
       "    </tr>\n",
       "    <tr>\n",
       "      <th>2345</th>\n",
       "      <td>391</td>\n",
       "      <td>0187-ERLSR</td>\n",
       "      <td>2012-05-15</td>\n",
       "      <td>2012-06-14</td>\n",
       "      <td>77.19</td>\n",
       "      <td>No</td>\n",
       "      <td>2012-05-28</td>\n",
       "      <td>Paper</td>\n",
       "      <td>13</td>\n",
       "      <td>0</td>\n",
       "      <td>30</td>\n",
       "      <td>on time</td>\n",
       "    </tr>\n",
       "    <tr>\n",
       "      <th>2401</th>\n",
       "      <td>391</td>\n",
       "      <td>0187-ERLSR</td>\n",
       "      <td>2012-05-21</td>\n",
       "      <td>2012-06-20</td>\n",
       "      <td>51.65</td>\n",
       "      <td>No</td>\n",
       "      <td>2012-06-04</td>\n",
       "      <td>Paper</td>\n",
       "      <td>14</td>\n",
       "      <td>0</td>\n",
       "      <td>30</td>\n",
       "      <td>on time</td>\n",
       "    </tr>\n",
       "    <tr>\n",
       "      <th>1791</th>\n",
       "      <td>391</td>\n",
       "      <td>0187-ERLSR</td>\n",
       "      <td>2012-06-16</td>\n",
       "      <td>2012-07-16</td>\n",
       "      <td>64.47</td>\n",
       "      <td>Yes</td>\n",
       "      <td>2012-07-04</td>\n",
       "      <td>Paper</td>\n",
       "      <td>18</td>\n",
       "      <td>0</td>\n",
       "      <td>30</td>\n",
       "      <td>on time</td>\n",
       "    </tr>\n",
       "    <tr>\n",
       "      <th>445</th>\n",
       "      <td>391</td>\n",
       "      <td>0187-ERLSR</td>\n",
       "      <td>2012-09-05</td>\n",
       "      <td>2012-10-05</td>\n",
       "      <td>84.57</td>\n",
       "      <td>No</td>\n",
       "      <td>2012-09-14</td>\n",
       "      <td>Paper</td>\n",
       "      <td>9</td>\n",
       "      <td>0</td>\n",
       "      <td>30</td>\n",
       "      <td>on time</td>\n",
       "    </tr>\n",
       "  </tbody>\n",
       "</table>\n",
       "</div>"
      ],
      "text/plain": [
       "     countryCode  customerID InvoiceDate    DueDate  InvoiceAmount Disputed  \\\n",
       "991          391  0187-ERLSR  2012-03-29 2012-04-28          62.68      Yes   \n",
       "2345         391  0187-ERLSR  2012-05-15 2012-06-14          77.19       No   \n",
       "2401         391  0187-ERLSR  2012-05-21 2012-06-20          51.65       No   \n",
       "1791         391  0187-ERLSR  2012-06-16 2012-07-16          64.47      Yes   \n",
       "445          391  0187-ERLSR  2012-09-05 2012-10-05          84.57       No   \n",
       "\n",
       "     SettledDate PaperlessBill  DaysToSettle  DaysLate  PaymentTerm  \\\n",
       "991   2012-04-25         Paper            27         0           30   \n",
       "2345  2012-05-28         Paper            13         0           30   \n",
       "2401  2012-06-04         Paper            14         0           30   \n",
       "1791  2012-07-04         Paper            18         0           30   \n",
       "445   2012-09-14         Paper             9         0           30   \n",
       "\n",
       "     DaysLate_Code  \n",
       "991        on time  \n",
       "2345       on time  \n",
       "2401       on time  \n",
       "1791       on time  \n",
       "445        on time  "
      ]
     },
     "execution_count": 159,
     "metadata": {},
     "output_type": "execute_result"
    }
   ],
   "source": [
    "pay.head()"
   ]
  },
  {
   "cell_type": "code",
   "execution_count": 160,
   "metadata": {},
   "outputs": [],
   "source": [
    "pay['late_invoices'] = np.where(pay['DaysLate'] > 0,1,0)\n",
    "pay['late_invoice_Amt'] = np.where(pay['DaysLate'] > 0,pay['InvoiceAmount'],0)"
   ]
  },
  {
   "cell_type": "code",
   "execution_count": 161,
   "metadata": {},
   "outputs": [],
   "source": [
    "import pandasql as ps"
   ]
  },
  {
   "cell_type": "code",
   "execution_count": 162,
   "metadata": {},
   "outputs": [],
   "source": [
    "sqlcode = '''select *,sum(InvoiceAmount) over(partition by customerID order by InvoiceDate ROWS BETWEEN UNBOUNDED PRECEDING AND 1 PRECEDING) as total_invoice_amt,\n",
    "sum(late_invoice_Amt) over(partition by customerID order by InvoiceDate ROWS BETWEEN UNBOUNDED PRECEDING AND 1 PRECEDING) as total_late_invoice_amt,\n",
    "sum(late_invoices) over(partition by customerID order by InvoiceDate ROWS BETWEEN UNBOUNDED PRECEDING AND 1 PRECEDING) as total_late_invoices,\n",
    "count() over(partition by customerID order by InvoiceDate ROWS BETWEEN UNBOUNDED PRECEDING AND 1 PRECEDING) as total_invoices\n",
    "from pay'''\n",
    "\n",
    "pay2 = ps.sqldf(sqlcode, locals())"
   ]
  },
  {
   "cell_type": "code",
   "execution_count": 163,
   "metadata": {},
   "outputs": [
    {
     "data": {
      "text/html": [
       "<div>\n",
       "<style scoped>\n",
       "    .dataframe tbody tr th:only-of-type {\n",
       "        vertical-align: middle;\n",
       "    }\n",
       "\n",
       "    .dataframe tbody tr th {\n",
       "        vertical-align: top;\n",
       "    }\n",
       "\n",
       "    .dataframe thead th {\n",
       "        text-align: right;\n",
       "    }\n",
       "</style>\n",
       "<table border=\"1\" class=\"dataframe\">\n",
       "  <thead>\n",
       "    <tr style=\"text-align: right;\">\n",
       "      <th></th>\n",
       "      <th>countryCode</th>\n",
       "      <th>customerID</th>\n",
       "      <th>InvoiceDate</th>\n",
       "      <th>DueDate</th>\n",
       "      <th>InvoiceAmount</th>\n",
       "      <th>Disputed</th>\n",
       "      <th>SettledDate</th>\n",
       "      <th>PaperlessBill</th>\n",
       "      <th>DaysToSettle</th>\n",
       "      <th>DaysLate</th>\n",
       "      <th>PaymentTerm</th>\n",
       "      <th>DaysLate_Code</th>\n",
       "      <th>late_invoices</th>\n",
       "      <th>late_invoice_Amt</th>\n",
       "      <th>total_invoice_amt</th>\n",
       "      <th>total_late_invoice_amt</th>\n",
       "      <th>total_late_invoices</th>\n",
       "      <th>total_invoices</th>\n",
       "    </tr>\n",
       "  </thead>\n",
       "  <tbody>\n",
       "    <tr>\n",
       "      <th>0</th>\n",
       "      <td>391</td>\n",
       "      <td>0187-ERLSR</td>\n",
       "      <td>2012-03-29 00:00:00.000000</td>\n",
       "      <td>2012-04-28 00:00:00.000000</td>\n",
       "      <td>62.68</td>\n",
       "      <td>Yes</td>\n",
       "      <td>2012-04-25 00:00:00.000000</td>\n",
       "      <td>Paper</td>\n",
       "      <td>27</td>\n",
       "      <td>0</td>\n",
       "      <td>30</td>\n",
       "      <td>on time</td>\n",
       "      <td>0</td>\n",
       "      <td>0.0</td>\n",
       "      <td>NaN</td>\n",
       "      <td>NaN</td>\n",
       "      <td>NaN</td>\n",
       "      <td>0</td>\n",
       "    </tr>\n",
       "    <tr>\n",
       "      <th>1</th>\n",
       "      <td>391</td>\n",
       "      <td>0187-ERLSR</td>\n",
       "      <td>2012-05-15 00:00:00.000000</td>\n",
       "      <td>2012-06-14 00:00:00.000000</td>\n",
       "      <td>77.19</td>\n",
       "      <td>No</td>\n",
       "      <td>2012-05-28 00:00:00.000000</td>\n",
       "      <td>Paper</td>\n",
       "      <td>13</td>\n",
       "      <td>0</td>\n",
       "      <td>30</td>\n",
       "      <td>on time</td>\n",
       "      <td>0</td>\n",
       "      <td>0.0</td>\n",
       "      <td>62.68</td>\n",
       "      <td>0.0</td>\n",
       "      <td>0.0</td>\n",
       "      <td>1</td>\n",
       "    </tr>\n",
       "    <tr>\n",
       "      <th>2</th>\n",
       "      <td>391</td>\n",
       "      <td>0187-ERLSR</td>\n",
       "      <td>2012-05-21 00:00:00.000000</td>\n",
       "      <td>2012-06-20 00:00:00.000000</td>\n",
       "      <td>51.65</td>\n",
       "      <td>No</td>\n",
       "      <td>2012-06-04 00:00:00.000000</td>\n",
       "      <td>Paper</td>\n",
       "      <td>14</td>\n",
       "      <td>0</td>\n",
       "      <td>30</td>\n",
       "      <td>on time</td>\n",
       "      <td>0</td>\n",
       "      <td>0.0</td>\n",
       "      <td>139.87</td>\n",
       "      <td>0.0</td>\n",
       "      <td>0.0</td>\n",
       "      <td>2</td>\n",
       "    </tr>\n",
       "    <tr>\n",
       "      <th>3</th>\n",
       "      <td>391</td>\n",
       "      <td>0187-ERLSR</td>\n",
       "      <td>2012-06-16 00:00:00.000000</td>\n",
       "      <td>2012-07-16 00:00:00.000000</td>\n",
       "      <td>64.47</td>\n",
       "      <td>Yes</td>\n",
       "      <td>2012-07-04 00:00:00.000000</td>\n",
       "      <td>Paper</td>\n",
       "      <td>18</td>\n",
       "      <td>0</td>\n",
       "      <td>30</td>\n",
       "      <td>on time</td>\n",
       "      <td>0</td>\n",
       "      <td>0.0</td>\n",
       "      <td>191.52</td>\n",
       "      <td>0.0</td>\n",
       "      <td>0.0</td>\n",
       "      <td>3</td>\n",
       "    </tr>\n",
       "    <tr>\n",
       "      <th>4</th>\n",
       "      <td>391</td>\n",
       "      <td>0187-ERLSR</td>\n",
       "      <td>2012-09-05 00:00:00.000000</td>\n",
       "      <td>2012-10-05 00:00:00.000000</td>\n",
       "      <td>84.57</td>\n",
       "      <td>No</td>\n",
       "      <td>2012-09-14 00:00:00.000000</td>\n",
       "      <td>Paper</td>\n",
       "      <td>9</td>\n",
       "      <td>0</td>\n",
       "      <td>30</td>\n",
       "      <td>on time</td>\n",
       "      <td>0</td>\n",
       "      <td>0.0</td>\n",
       "      <td>255.99</td>\n",
       "      <td>0.0</td>\n",
       "      <td>0.0</td>\n",
       "      <td>4</td>\n",
       "    </tr>\n",
       "  </tbody>\n",
       "</table>\n",
       "</div>"
      ],
      "text/plain": [
       "  countryCode  customerID                 InvoiceDate  \\\n",
       "0         391  0187-ERLSR  2012-03-29 00:00:00.000000   \n",
       "1         391  0187-ERLSR  2012-05-15 00:00:00.000000   \n",
       "2         391  0187-ERLSR  2012-05-21 00:00:00.000000   \n",
       "3         391  0187-ERLSR  2012-06-16 00:00:00.000000   \n",
       "4         391  0187-ERLSR  2012-09-05 00:00:00.000000   \n",
       "\n",
       "                      DueDate  InvoiceAmount Disputed  \\\n",
       "0  2012-04-28 00:00:00.000000          62.68      Yes   \n",
       "1  2012-06-14 00:00:00.000000          77.19       No   \n",
       "2  2012-06-20 00:00:00.000000          51.65       No   \n",
       "3  2012-07-16 00:00:00.000000          64.47      Yes   \n",
       "4  2012-10-05 00:00:00.000000          84.57       No   \n",
       "\n",
       "                  SettledDate PaperlessBill  DaysToSettle  DaysLate  \\\n",
       "0  2012-04-25 00:00:00.000000         Paper            27         0   \n",
       "1  2012-05-28 00:00:00.000000         Paper            13         0   \n",
       "2  2012-06-04 00:00:00.000000         Paper            14         0   \n",
       "3  2012-07-04 00:00:00.000000         Paper            18         0   \n",
       "4  2012-09-14 00:00:00.000000         Paper             9         0   \n",
       "\n",
       "   PaymentTerm DaysLate_Code  late_invoices  late_invoice_Amt  \\\n",
       "0           30       on time              0               0.0   \n",
       "1           30       on time              0               0.0   \n",
       "2           30       on time              0               0.0   \n",
       "3           30       on time              0               0.0   \n",
       "4           30       on time              0               0.0   \n",
       "\n",
       "   total_invoice_amt  total_late_invoice_amt  total_late_invoices  \\\n",
       "0                NaN                     NaN                  NaN   \n",
       "1              62.68                     0.0                  0.0   \n",
       "2             139.87                     0.0                  0.0   \n",
       "3             191.52                     0.0                  0.0   \n",
       "4             255.99                     0.0                  0.0   \n",
       "\n",
       "   total_invoices  \n",
       "0               0  \n",
       "1               1  \n",
       "2               2  \n",
       "3               3  \n",
       "4               4  "
      ]
     },
     "execution_count": 163,
     "metadata": {},
     "output_type": "execute_result"
    }
   ],
   "source": [
    "pay2.head()"
   ]
  },
  {
   "cell_type": "code",
   "execution_count": 164,
   "metadata": {},
   "outputs": [],
   "source": [
    "pay2['late_invoice_amt_pct'] = pay2['total_late_invoice_amt']/pay2['total_invoice_amt']\n",
    "pay2['late_invoices_pct'] = pay2['total_late_invoices']/pay2['total_invoices']"
   ]
  },
  {
   "cell_type": "code",
   "execution_count": 165,
   "metadata": {},
   "outputs": [],
   "source": [
    "pay2 = pay2.replace(np.NaN,0)"
   ]
  },
  {
   "cell_type": "code",
   "execution_count": 166,
   "metadata": {},
   "outputs": [
    {
     "data": {
      "text/html": [
       "<div>\n",
       "<style scoped>\n",
       "    .dataframe tbody tr th:only-of-type {\n",
       "        vertical-align: middle;\n",
       "    }\n",
       "\n",
       "    .dataframe tbody tr th {\n",
       "        vertical-align: top;\n",
       "    }\n",
       "\n",
       "    .dataframe thead th {\n",
       "        text-align: right;\n",
       "    }\n",
       "</style>\n",
       "<table border=\"1\" class=\"dataframe\">\n",
       "  <thead>\n",
       "    <tr style=\"text-align: right;\">\n",
       "      <th></th>\n",
       "      <th>countryCode</th>\n",
       "      <th>customerID</th>\n",
       "      <th>InvoiceDate</th>\n",
       "      <th>DueDate</th>\n",
       "      <th>InvoiceAmount</th>\n",
       "      <th>Disputed</th>\n",
       "      <th>SettledDate</th>\n",
       "      <th>PaperlessBill</th>\n",
       "      <th>DaysToSettle</th>\n",
       "      <th>DaysLate</th>\n",
       "      <th>PaymentTerm</th>\n",
       "      <th>DaysLate_Code</th>\n",
       "      <th>late_invoices</th>\n",
       "      <th>late_invoice_Amt</th>\n",
       "      <th>total_invoice_amt</th>\n",
       "      <th>total_late_invoice_amt</th>\n",
       "      <th>total_late_invoices</th>\n",
       "      <th>total_invoices</th>\n",
       "      <th>late_invoice_amt_pct</th>\n",
       "      <th>late_invoices_pct</th>\n",
       "    </tr>\n",
       "  </thead>\n",
       "  <tbody>\n",
       "    <tr>\n",
       "      <th>0</th>\n",
       "      <td>391</td>\n",
       "      <td>0187-ERLSR</td>\n",
       "      <td>2012-03-29 00:00:00.000000</td>\n",
       "      <td>2012-04-28 00:00:00.000000</td>\n",
       "      <td>62.68</td>\n",
       "      <td>Yes</td>\n",
       "      <td>2012-04-25 00:00:00.000000</td>\n",
       "      <td>Paper</td>\n",
       "      <td>27</td>\n",
       "      <td>0</td>\n",
       "      <td>30</td>\n",
       "      <td>on time</td>\n",
       "      <td>0</td>\n",
       "      <td>0.0</td>\n",
       "      <td>0.00</td>\n",
       "      <td>0.0</td>\n",
       "      <td>0.0</td>\n",
       "      <td>0</td>\n",
       "      <td>0.0</td>\n",
       "      <td>0.0</td>\n",
       "    </tr>\n",
       "    <tr>\n",
       "      <th>1</th>\n",
       "      <td>391</td>\n",
       "      <td>0187-ERLSR</td>\n",
       "      <td>2012-05-15 00:00:00.000000</td>\n",
       "      <td>2012-06-14 00:00:00.000000</td>\n",
       "      <td>77.19</td>\n",
       "      <td>No</td>\n",
       "      <td>2012-05-28 00:00:00.000000</td>\n",
       "      <td>Paper</td>\n",
       "      <td>13</td>\n",
       "      <td>0</td>\n",
       "      <td>30</td>\n",
       "      <td>on time</td>\n",
       "      <td>0</td>\n",
       "      <td>0.0</td>\n",
       "      <td>62.68</td>\n",
       "      <td>0.0</td>\n",
       "      <td>0.0</td>\n",
       "      <td>1</td>\n",
       "      <td>0.0</td>\n",
       "      <td>0.0</td>\n",
       "    </tr>\n",
       "    <tr>\n",
       "      <th>2</th>\n",
       "      <td>391</td>\n",
       "      <td>0187-ERLSR</td>\n",
       "      <td>2012-05-21 00:00:00.000000</td>\n",
       "      <td>2012-06-20 00:00:00.000000</td>\n",
       "      <td>51.65</td>\n",
       "      <td>No</td>\n",
       "      <td>2012-06-04 00:00:00.000000</td>\n",
       "      <td>Paper</td>\n",
       "      <td>14</td>\n",
       "      <td>0</td>\n",
       "      <td>30</td>\n",
       "      <td>on time</td>\n",
       "      <td>0</td>\n",
       "      <td>0.0</td>\n",
       "      <td>139.87</td>\n",
       "      <td>0.0</td>\n",
       "      <td>0.0</td>\n",
       "      <td>2</td>\n",
       "      <td>0.0</td>\n",
       "      <td>0.0</td>\n",
       "    </tr>\n",
       "    <tr>\n",
       "      <th>3</th>\n",
       "      <td>391</td>\n",
       "      <td>0187-ERLSR</td>\n",
       "      <td>2012-06-16 00:00:00.000000</td>\n",
       "      <td>2012-07-16 00:00:00.000000</td>\n",
       "      <td>64.47</td>\n",
       "      <td>Yes</td>\n",
       "      <td>2012-07-04 00:00:00.000000</td>\n",
       "      <td>Paper</td>\n",
       "      <td>18</td>\n",
       "      <td>0</td>\n",
       "      <td>30</td>\n",
       "      <td>on time</td>\n",
       "      <td>0</td>\n",
       "      <td>0.0</td>\n",
       "      <td>191.52</td>\n",
       "      <td>0.0</td>\n",
       "      <td>0.0</td>\n",
       "      <td>3</td>\n",
       "      <td>0.0</td>\n",
       "      <td>0.0</td>\n",
       "    </tr>\n",
       "    <tr>\n",
       "      <th>4</th>\n",
       "      <td>391</td>\n",
       "      <td>0187-ERLSR</td>\n",
       "      <td>2012-09-05 00:00:00.000000</td>\n",
       "      <td>2012-10-05 00:00:00.000000</td>\n",
       "      <td>84.57</td>\n",
       "      <td>No</td>\n",
       "      <td>2012-09-14 00:00:00.000000</td>\n",
       "      <td>Paper</td>\n",
       "      <td>9</td>\n",
       "      <td>0</td>\n",
       "      <td>30</td>\n",
       "      <td>on time</td>\n",
       "      <td>0</td>\n",
       "      <td>0.0</td>\n",
       "      <td>255.99</td>\n",
       "      <td>0.0</td>\n",
       "      <td>0.0</td>\n",
       "      <td>4</td>\n",
       "      <td>0.0</td>\n",
       "      <td>0.0</td>\n",
       "    </tr>\n",
       "  </tbody>\n",
       "</table>\n",
       "</div>"
      ],
      "text/plain": [
       "  countryCode  customerID                 InvoiceDate  \\\n",
       "0         391  0187-ERLSR  2012-03-29 00:00:00.000000   \n",
       "1         391  0187-ERLSR  2012-05-15 00:00:00.000000   \n",
       "2         391  0187-ERLSR  2012-05-21 00:00:00.000000   \n",
       "3         391  0187-ERLSR  2012-06-16 00:00:00.000000   \n",
       "4         391  0187-ERLSR  2012-09-05 00:00:00.000000   \n",
       "\n",
       "                      DueDate  InvoiceAmount Disputed  \\\n",
       "0  2012-04-28 00:00:00.000000          62.68      Yes   \n",
       "1  2012-06-14 00:00:00.000000          77.19       No   \n",
       "2  2012-06-20 00:00:00.000000          51.65       No   \n",
       "3  2012-07-16 00:00:00.000000          64.47      Yes   \n",
       "4  2012-10-05 00:00:00.000000          84.57       No   \n",
       "\n",
       "                  SettledDate PaperlessBill  DaysToSettle  DaysLate  \\\n",
       "0  2012-04-25 00:00:00.000000         Paper            27         0   \n",
       "1  2012-05-28 00:00:00.000000         Paper            13         0   \n",
       "2  2012-06-04 00:00:00.000000         Paper            14         0   \n",
       "3  2012-07-04 00:00:00.000000         Paper            18         0   \n",
       "4  2012-09-14 00:00:00.000000         Paper             9         0   \n",
       "\n",
       "   PaymentTerm DaysLate_Code  late_invoices  late_invoice_Amt  \\\n",
       "0           30       on time              0               0.0   \n",
       "1           30       on time              0               0.0   \n",
       "2           30       on time              0               0.0   \n",
       "3           30       on time              0               0.0   \n",
       "4           30       on time              0               0.0   \n",
       "\n",
       "   total_invoice_amt  total_late_invoice_amt  total_late_invoices  \\\n",
       "0               0.00                     0.0                  0.0   \n",
       "1              62.68                     0.0                  0.0   \n",
       "2             139.87                     0.0                  0.0   \n",
       "3             191.52                     0.0                  0.0   \n",
       "4             255.99                     0.0                  0.0   \n",
       "\n",
       "   total_invoices  late_invoice_amt_pct  late_invoices_pct  \n",
       "0               0                   0.0                0.0  \n",
       "1               1                   0.0                0.0  \n",
       "2               2                   0.0                0.0  \n",
       "3               3                   0.0                0.0  \n",
       "4               4                   0.0                0.0  "
      ]
     },
     "execution_count": 166,
     "metadata": {},
     "output_type": "execute_result"
    }
   ],
   "source": [
    "pay2.head()"
   ]
  },
  {
   "cell_type": "code",
   "execution_count": 167,
   "metadata": {},
   "outputs": [],
   "source": [
    "pay = pay2.drop(['countryCode','customerID','InvoiceDate','DueDate','SettledDate','DaysToSettle','DaysLate'],axis=1)"
   ]
  },
  {
   "cell_type": "code",
   "execution_count": 168,
   "metadata": {},
   "outputs": [],
   "source": [
    "pay_x = pay.drop('DaysLate_Code',axis=1)\n",
    "pay_y = pay[['DaysLate_Code']]"
   ]
  },
  {
   "cell_type": "code",
   "execution_count": 169,
   "metadata": {},
   "outputs": [
    {
     "data": {
      "text/plain": [
       "No     1905\n",
       "Yes     561\n",
       "Name: Disputed, dtype: int64"
      ]
     },
     "execution_count": 169,
     "metadata": {},
     "output_type": "execute_result"
    }
   ],
   "source": [
    "pay_x['Disputed'].value_counts()"
   ]
  },
  {
   "cell_type": "code",
   "execution_count": 170,
   "metadata": {},
   "outputs": [],
   "source": [
    "pay_x['Disputed'] = np.where(pay_x['Disputed']=='Yes',1,0)"
   ]
  },
  {
   "cell_type": "code",
   "execution_count": 171,
   "metadata": {},
   "outputs": [
    {
     "data": {
      "text/plain": [
       "Paper         1263\n",
       "Electronic    1203\n",
       "Name: PaperlessBill, dtype: int64"
      ]
     },
     "execution_count": 171,
     "metadata": {},
     "output_type": "execute_result"
    }
   ],
   "source": [
    "pay_x['PaperlessBill'].value_counts()"
   ]
  },
  {
   "cell_type": "code",
   "execution_count": 172,
   "metadata": {},
   "outputs": [],
   "source": [
    "pay_x['PaperlessBill'] = np.where(pay_x['PaperlessBill']=='Electronic',1,0)"
   ]
  },
  {
   "cell_type": "code",
   "execution_count": 173,
   "metadata": {},
   "outputs": [],
   "source": [
    "import scipy.misc"
   ]
  },
  {
   "cell_type": "code",
   "execution_count": 239,
   "metadata": {},
   "outputs": [],
   "source": [
    "from sklearn.model_selection import train_test_split, GridSearchCV, cross_val_score\n",
    "import sklearn\n",
    "from sklearn.linear_model import LogisticRegression\n",
    "from sklearn import metrics\n",
    "from sklearn.preprocessing import label_binarize\n",
    "from sklearn.metrics import precision_recall_curve, roc_curve\n",
    "from sklearn.metrics import classification_report"
   ]
  },
  {
   "cell_type": "code",
   "execution_count": 222,
   "metadata": {},
   "outputs": [],
   "source": [
    "def draw_pr_curve(model, Y_test,y_score,classes = n_classes):\n",
    "    precision = dict()\n",
    "    recall = dict()\n",
    "    for i in range(classes):\n",
    "        precision[i], recall[i], _ = precision_recall_curve(Y_test[:, i],\n",
    "                                                            y_score[:, i])\n",
    "        plt.plot(recall[i], precision[i], lw=2, label='class {}'.format(i))\n",
    "\n",
    "    plt.xlabel(\"recall\")\n",
    "    plt.ylabel(\"precision\")\n",
    "    plt.legend(loc=\"best\")\n",
    "    plt.title(model + \" precision vs. recall curve\")\n",
    "    plt.show()"
   ]
  },
  {
   "cell_type": "code",
   "execution_count": 223,
   "metadata": {},
   "outputs": [],
   "source": [
    "def draw_roc_curve(model, Y_test,y_score,classes = n_classes):    \n",
    "    fpr = dict()\n",
    "    tpr = dict()\n",
    "\n",
    "    for i in range(classes):\n",
    "        fpr[i], tpr[i], _ = roc_curve(Y_test[:, i],\n",
    "                                      y_score[:, i])\n",
    "        plt.plot(fpr[i], tpr[i], lw=2, label='class {}'.format(i))\n",
    "\n",
    "    plt.xlabel(\"false positive rate\")\n",
    "    plt.ylabel(\"true positive rate\")\n",
    "    plt.legend(loc=\"best\")\n",
    "    plt.title(model + \" ROC curve\")\n",
    "    plt.show()"
   ]
  },
  {
   "cell_type": "code",
   "execution_count": 244,
   "metadata": {},
   "outputs": [],
   "source": [
    "target_names = ['on time', '0-10 Days', '11-20 Days', '20+ Days']\n",
    "\n",
    "Y = label_binarize(pay_y, classes=target_names)\n",
    "n_classes = Y.shape[1]"
   ]
  },
  {
   "cell_type": "code",
   "execution_count": 245,
   "metadata": {},
   "outputs": [],
   "source": [
    "X_train_m, X_test_m,Y_train_m,Y_test_m = train_test_split(pay_x,Y,test_size=0.2,random_state=42)\n",
    "X_train_d, X_test_d,Y_train_d,Y_test_d = train_test_split(pay_x,pay_y,test_size=0.2,random_state=42)"
   ]
  },
  {
   "cell_type": "code",
   "execution_count": 246,
   "metadata": {},
   "outputs": [],
   "source": [
    "from sklearn.preprocessing import StandardScaler\n",
    "scaler = StandardScaler().fit(X_train_m)\n",
    "X_train_scaled_m = scaler.transform(X_train_m)\n",
    "X_test_scaled_m = scaler.transform(X_test_m)\n",
    "\n",
    "scaler = StandardScaler().fit(X_train_d)\n",
    "X_train_scaled_d = scaler.transform(X_train_d)\n",
    "X_test_scaled_d = scaler.transform(X_test_d)"
   ]
  },
  {
   "cell_type": "markdown",
   "metadata": {},
   "source": [
    "### Logistic Regression"
   ]
  },
  {
   "cell_type": "code",
   "execution_count": 247,
   "metadata": {},
   "outputs": [
    {
     "name": "stdout",
     "output_type": "stream",
     "text": [
      "{'C': 10, 'penalty': 'l1'}\n",
      "0.8587775550423266\n"
     ]
    }
   ],
   "source": [
    "param_grid = [{'C': [0.1,0.2,0.5,1,5,10],'penalty': ['l1', 'l2']}]\n",
    "\n",
    "model = LogisticRegression()\n",
    "\n",
    "scorer = sklearn.metrics.make_scorer(sklearn.metrics.precision_score, average = 'weighted')\n",
    "\n",
    "model2 = GridSearchCV(model, param_grid,cv=5, n_jobs=-1,scoring=scorer)\n",
    "model2.fit(X_train_scaled_d,Y_train_d)\n",
    "print(model2.best_params_)\n",
    "print(model2.best_score_)"
   ]
  },
  {
   "cell_type": "code",
   "execution_count": 248,
   "metadata": {},
   "outputs": [],
   "source": [
    "clf = OneVsRestClassifier(LogisticRegression(C=10,\n",
    "                             penalty='l1',\n",
    "                             random_state=42))\n",
    "clf.fit(X_train_scaled_m, Y_train_m)\n",
    "\n",
    "y_score = clf.predict_proba(X_test_scaled_m)"
   ]
  },
  {
   "cell_type": "code",
   "execution_count": 249,
   "metadata": {},
   "outputs": [
    {
     "name": "stdout",
     "output_type": "stream",
     "text": [
      "Logistic test score: 0.812399523671631\n"
     ]
    }
   ],
   "source": [
    "y_pred = clf.fit(X_train_scaled_m, Y_train_m).predict(X_test_scaled_m)\n",
    "Logit_test = metrics.average_precision_score(Y_test_m, y_pred,average='weighted')\n",
    "print(\"Logistic test score:\",Logit_test)"
   ]
  },
  {
   "cell_type": "code",
   "execution_count": 250,
   "metadata": {},
   "outputs": [
    {
     "name": "stdout",
     "output_type": "stream",
     "text": [
      "              precision    recall  f1-score   support\n",
      "\n",
      "     on time       1.00      1.00      1.00       322\n",
      "   0-10 Days       0.75      0.85      0.79       111\n",
      "  11-20 Days       0.31      0.09      0.14        44\n",
      "    20+ Days       0.00      0.00      0.00        17\n",
      "\n",
      "   micro avg       0.91      0.85      0.88       494\n",
      "   macro avg       0.51      0.48      0.48       494\n",
      "weighted avg       0.85      0.85      0.84       494\n",
      " samples avg       0.85      0.85      0.85       494\n",
      "\n"
     ]
    }
   ],
   "source": [
    "print(classification_report(Y_test_m, y_pred, target_names=target_names))"
   ]
  },
  {
   "cell_type": "code",
   "execution_count": 251,
   "metadata": {},
   "outputs": [
    {
     "data": {
      "image/png": "[encoded data removed]",
      "text/plain": [
       "<Figure size 432x288 with 1 Axes>"
      ]
     },
     "metadata": {
      "needs_background": "light"
     },
     "output_type": "display_data"
    }
   ],
   "source": [
    "draw_pr_curve('Logistic',Y_test,y_score)"
   ]
  },
  {
   "cell_type": "code",
   "execution_count": 252,
   "metadata": {},
   "outputs": [
    {
     "data": {
      "image/png": "[encoded data removed]",
      "text/plain": [
       "<Figure size 432x288 with 1 Axes>"
      ]
     },
     "metadata": {
      "needs_background": "light"
     },
     "output_type": "display_data"
    }
   ],
   "source": [
    "draw_roc_curve('Logistic',Y_test,y_score)"
   ]
  },
  {
   "cell_type": "markdown",
   "metadata": {},
   "source": [
    "### KNN Classifier"
   ]
  },
  {
   "cell_type": "code",
   "execution_count": 253,
   "metadata": {},
   "outputs": [
    {
     "name": "stdout",
     "output_type": "stream",
     "text": [
      "{'n_neighbors': 31, 'weights': 'distance'}\n",
      "0.8560418639522159\n"
     ]
    }
   ],
   "source": [
    "from sklearn import neighbors\n",
    "param_grid_k = [{'n_neighbors': range(1,100),'weights': [\"uniform\", \"distance\"]}]\n",
    "\n",
    "knn_clfs = neighbors.KNeighborsClassifier()\n",
    "grid_search1 = GridSearchCV(knn_clfs, param_grid_k, cv=5, n_jobs=-1,scoring=scorer)\n",
    "grid_search1.fit(X_train_scaled_d, Y_train_d)\n",
    "print(grid_search1.best_params_)\n",
    "print(grid_search1.best_score_)"
   ]
  },
  {
   "cell_type": "code",
   "execution_count": 263,
   "metadata": {},
   "outputs": [],
   "source": [
    "clf = OneVsRestClassifier(neighbors.KNeighborsClassifier(n_neighbors=31,weights='distance'))\n",
    "clf.fit(X_train_scaled_m, Y_train_m)\n",
    "\n",
    "y_score = clf.predict_proba(X_test_scaled_m)"
   ]
  },
  {
   "cell_type": "code",
   "execution_count": 264,
   "metadata": {},
   "outputs": [
    {
     "name": "stdout",
     "output_type": "stream",
     "text": [
      "knn test score: 0.8156922223588837\n"
     ]
    }
   ],
   "source": [
    "y_pred = clf.fit(X_train_scaled_m, Y_train_m).predict(X_test_scaled_m)\n",
    "knn_test = metrics.average_precision_score(Y_test_m, y_pred,average='weighted')\n",
    "print(\"knn test score:\",knn_test)"
   ]
  },
  {
   "cell_type": "code",
   "execution_count": 265,
   "metadata": {},
   "outputs": [
    {
     "name": "stdout",
     "output_type": "stream",
     "text": [
      "              precision    recall  f1-score   support\n",
      "\n",
      "     on time       1.00      1.00      1.00       322\n",
      "   0-10 Days       0.74      0.87      0.80       111\n",
      "  11-20 Days       0.38      0.11      0.18        44\n",
      "    20+ Days       0.00      0.00      0.00        17\n",
      "\n",
      "   micro avg       0.91      0.86      0.88       494\n",
      "   macro avg       0.53      0.50      0.49       494\n",
      "weighted avg       0.85      0.86      0.85       494\n",
      " samples avg       0.86      0.86      0.86       494\n",
      "\n"
     ]
    }
   ],
   "source": [
    "print(classification_report(Y_test_m, y_pred, target_names=target_names))"
   ]
  },
  {
   "cell_type": "code",
   "execution_count": 256,
   "metadata": {},
   "outputs": [
    {
     "data": {
      "image/png": "[encoded data removed]",
      "text/plain": [
       "<Figure size 432x288 with 1 Axes>"
      ]
     },
     "metadata": {
      "needs_background": "light"
     },
     "output_type": "display_data"
    }
   ],
   "source": [
    "draw_pr_curve('KNN',Y_test,y_score)"
   ]
  },
  {
   "cell_type": "code",
   "execution_count": 257,
   "metadata": {},
   "outputs": [
    {
     "data": {
      "image/png": "[encoded data removed]",
      "text/plain": [
       "<Figure size 432x288 with 1 Axes>"
      ]
     },
     "metadata": {
      "needs_background": "light"
     },
     "output_type": "display_data"
    }
   ],
   "source": [
    "draw_roc_curve('KNN',Y_test,y_score)"
   ]
  },
  {
   "cell_type": "markdown",
   "metadata": {},
   "source": [
    "### Decision Trees"
   ]
  },
  {
   "cell_type": "code",
   "execution_count": 258,
   "metadata": {},
   "outputs": [
    {
     "name": "stdout",
     "output_type": "stream",
     "text": [
      "{'max_depth': 17, 'min_samples_split': 3}\n",
      "0.8501389484493068\n"
     ]
    }
   ],
   "source": [
    "# Tree Regression\n",
    "from sklearn import tree\n",
    "\n",
    "param_grid_t = [{'max_depth': range(1,20), 'min_samples_split': range(2,20)}]\n",
    "\n",
    "tree_clf = tree.DecisionTreeClassifier()\n",
    "grid_search1 = GridSearchCV(tree_clf, param_grid_t, cv=5, n_jobs=-1,scoring=scorer)\n",
    "grid_search1.fit(X_train, Y_train)\n",
    "print(grid_search1.best_params_)\n",
    "print(grid_search1.best_score_)"
   ]
  },
  {
   "cell_type": "code",
   "execution_count": 266,
   "metadata": {},
   "outputs": [],
   "source": [
    "clf = OneVsRestClassifier(tree.DecisionTreeClassifier(max_depth=17,min_samples_split=3))\n",
    "clf.fit(X_train_scaled_m, Y_train_m)\n",
    "\n",
    "y_score = clf.predict_proba(X_test_scaled_m)"
   ]
  },
  {
   "cell_type": "code",
   "execution_count": 267,
   "metadata": {},
   "outputs": [
    {
     "name": "stdout",
     "output_type": "stream",
     "text": [
      "Tree test score: 0.7872617154846007\n"
     ]
    }
   ],
   "source": [
    "y_pred = clf.fit(X_train_scaled_m, Y_train_m).predict(X_test_scaled_m)\n",
    "tree_test = metrics.average_precision_score(Y_test_m, y_pred,average='weighted')\n",
    "print(\"Tree test score:\",tree_test)"
   ]
  },
  {
   "cell_type": "code",
   "execution_count": 268,
   "metadata": {},
   "outputs": [
    {
     "name": "stdout",
     "output_type": "stream",
     "text": [
      "              precision    recall  f1-score   support\n",
      "\n",
      "     on time       1.00      1.00      1.00       322\n",
      "   0-10 Days       0.73      0.62      0.67       111\n",
      "  11-20 Days       0.26      0.34      0.30        44\n",
      "    20+ Days       0.15      0.12      0.13        17\n",
      "\n",
      "   micro avg       0.84      0.83      0.83       494\n",
      "   macro avg       0.54      0.52      0.53       494\n",
      "weighted avg       0.84      0.83      0.83       494\n",
      " samples avg       0.80      0.83      0.81       494\n",
      "\n"
     ]
    }
   ],
   "source": [
    "print(classification_report(Y_test_m, y_pred, target_names=target_names))"
   ]
  },
  {
   "cell_type": "code",
   "execution_count": 261,
   "metadata": {},
   "outputs": [
    {
     "data": {
      "image/png": "[encoded data removed]",
      "text/plain": [
       "<Figure size 432x288 with 1 Axes>"
      ]
     },
     "metadata": {
      "needs_background": "light"
     },
     "output_type": "display_data"
    }
   ],
   "source": [
    "draw_pr_curve('Decision Tree',Y_test,y_score)"
   ]
  },
  {
   "cell_type": "code",
   "execution_count": 262,
   "metadata": {},
   "outputs": [
    {
     "data": {
      "image/png": "[encoded data removed]",
      "text/plain": [
       "<Figure size 432x288 with 1 Axes>"
      ]
     },
     "metadata": {
      "needs_background": "light"
     },
     "output_type": "display_data"
    }
   ],
   "source": [
    "draw_roc_curve('Decision Tree',Y_test,y_score)"
   ]
  },
  {
   "cell_type": "markdown",
   "metadata": {},
   "source": [
    "### SVM Classifier"
   ]
  },
  {
   "cell_type": "code",
   "execution_count": 80,
   "metadata": {},
   "outputs": [
    {
     "name": "stdout",
     "output_type": "stream",
     "text": [
      "{'C': 10000, 'gamma': 0.0001, 'kernel': 'rbf'}\n",
      "0.8516957339976222\n",
      "{'C': 100, 'kernel': 'linear'}\n",
      "0.85149887556672\n",
      "{'C': 1000, 'degree': 2, 'kernel': 'poly'}\n",
      "0.8562793309448623\n"
     ]
    }
   ],
   "source": [
    "from sklearn import svm\n",
    "tuned_parameters = [{'kernel': ['rbf'], 'gamma': [1,1e-3,1e-4,1e-5],'C': [1, 10, 100, 1000,10000]},\n",
    "                    {'kernel': ['linear'], 'C': [0.1, 1, 10, 100]},\n",
    "                    {'kernel': ['poly'], 'degree': [1,2,3],'C': [1, 10, 100, 1000,10000]}]\n",
    "\n",
    "for i,p in enumerate(tuned_parameters):\n",
    "    clf = GridSearchCV(svm.SVC(), p, cv=5,scoring=scorer)\n",
    "    clf.fit(X_train_scaled, Y_train)\n",
    "    print(clf.best_params_)\n",
    "    print(clf.best_score_)"
   ]
  },
  {
   "cell_type": "code",
   "execution_count": 270,
   "metadata": {},
   "outputs": [],
   "source": [
    "clf = OneVsRestClassifier(svm.SVC(C=10000,gamma=0.0001,kernel='rbf',probability=True))\n",
    "clf.fit(X_train_scaled_m, Y_train_m)\n",
    "\n",
    "y_score = clf.predict_proba(X_test_scaled_m)"
   ]
  },
  {
   "cell_type": "code",
   "execution_count": 271,
   "metadata": {},
   "outputs": [
    {
     "name": "stdout",
     "output_type": "stream",
     "text": [
      "SVM RBF test score: 0.808574883071716\n"
     ]
    }
   ],
   "source": [
    "y_pred = clf.fit(X_train_scaled_m, Y_train_m).predict(X_test_scaled_m)\n",
    "tree_test = metrics.average_precision_score(Y_test_m, y_pred,average='weighted')\n",
    "print(\"SVM RBF test score:\",tree_test)"
   ]
  },
  {
   "cell_type": "code",
   "execution_count": 272,
   "metadata": {},
   "outputs": [
    {
     "name": "stdout",
     "output_type": "stream",
     "text": [
      "              precision    recall  f1-score   support\n",
      "\n",
      "     on time       1.00      1.00      1.00       322\n",
      "   0-10 Days       0.75      0.82      0.78       111\n",
      "  11-20 Days       0.00      0.00      0.00        44\n",
      "    20+ Days       0.00      0.00      0.00        17\n",
      "\n",
      "   micro avg       0.93      0.84      0.88       494\n",
      "   macro avg       0.44      0.45      0.45       494\n",
      "weighted avg       0.82      0.84      0.83       494\n",
      " samples avg       0.84      0.84      0.84       494\n",
      "\n"
     ]
    }
   ],
   "source": [
    "print(classification_report(Y_test_m, y_pred, target_names=target_names))"
   ]
  },
  {
   "cell_type": "code",
   "execution_count": 273,
   "metadata": {},
   "outputs": [
    {
     "data": {
      "image/png": "[encoded data removed]",
      "text/plain": [
       "<Figure size 432x288 with 1 Axes>"
      ]
     },
     "metadata": {
      "needs_background": "light"
     },
     "output_type": "display_data"
    }
   ],
   "source": [
    "draw_pr_curve('SVM RBF',Y_test,y_score)"
   ]
  },
  {
   "cell_type": "code",
   "execution_count": 274,
   "metadata": {},
   "outputs": [
    {
     "data": {
      "image/png": "[encoded data removed]",
      "text/plain": [
       "<Figure size 432x288 with 1 Axes>"
      ]
     },
     "metadata": {
      "needs_background": "light"
     },
     "output_type": "display_data"
    }
   ],
   "source": [
    "draw_roc_curve('SVM RBF',Y_test,y_score)"
   ]
  },
  {
   "cell_type": "code",
   "execution_count": 275,
   "metadata": {},
   "outputs": [],
   "source": [
    "clf = OneVsRestClassifier(svm.SVC(C=100,kernel='linear',probability=True))\n",
    "clf.fit(X_train_scaled_m, Y_train_m)\n",
    "\n",
    "y_score = clf.predict_proba(X_test_scaled_m)"
   ]
  },
  {
   "cell_type": "code",
   "execution_count": 276,
   "metadata": {},
   "outputs": [
    {
     "name": "stdout",
     "output_type": "stream",
     "text": [
      "SVM linear test score: 0.8071309151108853\n"
     ]
    }
   ],
   "source": [
    "y_pred = clf.fit(X_train_scaled_m, Y_train_m).predict(X_test_scaled_m)\n",
    "tree_test = metrics.average_precision_score(Y_test_m, y_pred,average='weighted')\n",
    "print(\"SVM linear test score:\",tree_test)"
   ]
  },
  {
   "cell_type": "code",
   "execution_count": 277,
   "metadata": {},
   "outputs": [
    {
     "name": "stdout",
     "output_type": "stream",
     "text": [
      "              precision    recall  f1-score   support\n",
      "\n",
      "     on time       1.00      1.00      1.00       322\n",
      "   0-10 Days       0.75      0.81      0.78       111\n",
      "  11-20 Days       0.00      0.00      0.00        44\n",
      "    20+ Days       0.00      0.00      0.00        17\n",
      "\n",
      "   micro avg       0.93      0.83      0.88       494\n",
      "   macro avg       0.44      0.45      0.44       494\n",
      "weighted avg       0.82      0.83      0.83       494\n",
      " samples avg       0.83      0.83      0.83       494\n",
      "\n"
     ]
    }
   ],
   "source": [
    "print(classification_report(Y_test_m, y_pred, target_names=target_names))"
   ]
  },
  {
   "cell_type": "code",
   "execution_count": 278,
   "metadata": {},
   "outputs": [
    {
     "data": {
      "image/png": "[encoded data removed]",
      "text/plain": [
       "<Figure size 432x288 with 1 Axes>"
      ]
     },
     "metadata": {
      "needs_background": "light"
     },
     "output_type": "display_data"
    }
   ],
   "source": [
    "draw_pr_curve('SVM Linear',Y_test,y_score)"
   ]
  },
  {
   "cell_type": "code",
   "execution_count": 279,
   "metadata": {},
   "outputs": [
    {
     "data": {
      "image/png": "[encoded data removed]",
      "text/plain": [
       "<Figure size 432x288 with 1 Axes>"
      ]
     },
     "metadata": {
      "needs_background": "light"
     },
     "output_type": "display_data"
    }
   ],
   "source": [
    "draw_roc_curve('SVM Linear',Y_test,y_score)"
   ]
  },
  {
   "cell_type": "code",
   "execution_count": 280,
   "metadata": {},
   "outputs": [],
   "source": [
    "clf = OneVsRestClassifier(svm.SVC(C=1000,degree=2,kernel='poly',probability=True))\n",
    "clf.fit(X_train_scaled_m, Y_train_m)\n",
    "\n",
    "y_score = clf.predict_proba(X_test_scaled_m)"
   ]
  },
  {
   "cell_type": "code",
   "execution_count": 281,
   "metadata": {},
   "outputs": [
    {
     "name": "stdout",
     "output_type": "stream",
     "text": [
      "SVM Poly test score: 0.8109453497639693\n"
     ]
    }
   ],
   "source": [
    "y_pred = clf.fit(X_train_scaled_m, Y_train_m).predict(X_test_scaled_m)\n",
    "tree_test = metrics.average_precision_score(Y_test_m, y_pred,average='weighted')\n",
    "print(\"SVM Poly test score:\",tree_test)"
   ]
  },
  {
   "cell_type": "code",
   "execution_count": 282,
   "metadata": {},
   "outputs": [
    {
     "name": "stdout",
     "output_type": "stream",
     "text": [
      "              precision    recall  f1-score   support\n",
      "\n",
      "     on time       1.00      1.00      1.00       322\n",
      "   0-10 Days       0.74      0.86      0.79       111\n",
      "  11-20 Days       0.00      0.00      0.00        44\n",
      "    20+ Days       0.00      0.00      0.00        17\n",
      "\n",
      "   micro avg       0.93      0.84      0.88       494\n",
      "   macro avg       0.44      0.46      0.45       494\n",
      "weighted avg       0.82      0.84      0.83       494\n",
      " samples avg       0.84      0.84      0.84       494\n",
      "\n"
     ]
    }
   ],
   "source": [
    "print(classification_report(Y_test_m, y_pred, target_names=target_names))"
   ]
  },
  {
   "cell_type": "code",
   "execution_count": 283,
   "metadata": {},
   "outputs": [
    {
     "data": {
      "image/png": "[encoded data removed]",
      "text/plain": [
       "<Figure size 432x288 with 1 Axes>"
      ]
     },
     "metadata": {
      "needs_background": "light"
     },
     "output_type": "display_data"
    }
   ],
   "source": [
    "draw_pr_curve('SVM Poly',Y_test,y_score)"
   ]
  },
  {
   "cell_type": "code",
   "execution_count": 284,
   "metadata": {},
   "outputs": [
    {
     "data": {
      "image/png": "[encoded data removed]",
      "text/plain": [
       "<Figure size 432x288 with 1 Axes>"
      ]
     },
     "metadata": {
      "needs_background": "light"
     },
     "output_type": "display_data"
    }
   ],
   "source": [
    "draw_roc_curve('SVM Poly',Y_test,y_score)"
   ]
  },
  {
   "cell_type": "markdown",
   "metadata": {},
   "source": [
    "### XGBoost"
   ]
  },
  {
   "cell_type": "code",
   "execution_count": 81,
   "metadata": {},
   "outputs": [
    {
     "data": {
      "text/plain": [
       "GridSearchCV(cv=3, error_score='raise-deprecating',\n",
       "             estimator=XGBClassifier(base_score=0.5, booster='gbtree',\n",
       "                                     colsample_bylevel=1, colsample_bynode=1,\n",
       "                                     colsample_bytree=1, gamma=0,\n",
       "                                     learning_rate=0.1, max_delta_step=0,\n",
       "                                     max_depth=3, min_child_weight=1,\n",
       "                                     missing=None, n_estimators=100, n_jobs=1,\n",
       "                                     nthread=None, objective='multi:softmax',\n",
       "                                     random_state=42, reg_alpha=0, reg_lambda=1,\n",
       "                                     scale_pos_weight=1, seed=None, silent=None,\n",
       "                                     subsample=1, verbosity=1),\n",
       "             iid='warn', n_jobs=None,\n",
       "             param_grid={'learning_rate': [0.001, 0.01, 0.1],\n",
       "                         'max_depth': [1, 2, 3, 4, 5, 6],\n",
       "                         'n_estimators': [250, 500, 750]},\n",
       "             pre_dispatch='2*n_jobs', refit=True, return_train_score=False,\n",
       "             scoring=make_scorer(precision_score, average=weighted), verbose=0)"
      ]
     },
     "execution_count": 81,
     "metadata": {},
     "output_type": "execute_result"
    }
   ],
   "source": [
    "from xgboost import XGBClassifier\n",
    "params = {'n_estimators':[250,500,750],'learning_rate':[0.001,0.01,0.1],'max_depth':[1,2,3,4,5,6]}\n",
    "\n",
    "xgb2 = XGBClassifier(objective='multi:softmax',random_state=42)\n",
    "clf = GridSearchCV(xgb2,params,cv=3,scoring=scorer)\n",
    "clf.fit(X_train, Y_train)"
   ]
  },
  {
   "cell_type": "code",
   "execution_count": 82,
   "metadata": {},
   "outputs": [
    {
     "name": "stdout",
     "output_type": "stream",
     "text": [
      "{'learning_rate': 0.001, 'max_depth': 3, 'n_estimators': 500}\n",
      "0.8532779029224185\n"
     ]
    }
   ],
   "source": [
    "print(clf.best_params_)\n",
    "print(clf.best_score_)"
   ]
  },
  {
   "cell_type": "code",
   "execution_count": 286,
   "metadata": {},
   "outputs": [],
   "source": [
    "clf = OneVsRestClassifier(XGBClassifier(learning_rate=0.001,max_depth=3,n_estimators=500))\n",
    "clf.fit(X_train_scaled_m, Y_train_m)\n",
    "\n",
    "y_score = clf.predict_proba(X_test_scaled_m)"
   ]
  },
  {
   "cell_type": "code",
   "execution_count": 287,
   "metadata": {},
   "outputs": [
    {
     "name": "stdout",
     "output_type": "stream",
     "text": [
      "XGBoost test score: 0.8139700699896737\n"
     ]
    }
   ],
   "source": [
    "y_pred = clf.fit(X_train_scaled_m, Y_train_m).predict(X_test_scaled_m)\n",
    "tree_test = metrics.average_precision_score(Y_test_m, y_pred,average='weighted')\n",
    "print(\"XGBoost test score:\",tree_test)"
   ]
  },
  {
   "cell_type": "code",
   "execution_count": 288,
   "metadata": {},
   "outputs": [
    {
     "name": "stdout",
     "output_type": "stream",
     "text": [
      "              precision    recall  f1-score   support\n",
      "\n",
      "     on time       1.00      1.00      1.00       322\n",
      "   0-10 Days       0.74      0.88      0.80       111\n",
      "  11-20 Days       0.00      0.00      0.00        44\n",
      "    20+ Days       0.50      0.06      0.11        17\n",
      "\n",
      "   micro avg       0.92      0.85      0.89       494\n",
      "   macro avg       0.56      0.49      0.48       494\n",
      "weighted avg       0.83      0.85      0.84       494\n",
      " samples avg       0.85      0.85      0.85       494\n",
      "\n"
     ]
    }
   ],
   "source": [
    "print(classification_report(Y_test_m, y_pred, target_names=target_names))"
   ]
  },
  {
   "cell_type": "code",
   "execution_count": 289,
   "metadata": {},
   "outputs": [
    {
     "data": {
      "image/png": "[encoded data removed]",
      "text/plain": [
       "<Figure size 432x288 with 1 Axes>"
      ]
     },
     "metadata": {
      "needs_background": "light"
     },
     "output_type": "display_data"
    }
   ],
   "source": [
    "draw_pr_curve('XGBoost',Y_test,y_score)"
   ]
  },
  {
   "cell_type": "code",
   "execution_count": 290,
   "metadata": {},
   "outputs": [
    {
     "data": {
      "image/png": "[encoded data removed]",
      "text/plain": [
       "<Figure size 432x288 with 1 Axes>"
      ]
     },
     "metadata": {
      "needs_background": "light"
     },
     "output_type": "display_data"
    }
   ],
   "source": [
    "draw_roc_curve('XGBoost',Y_test,y_score)"
   ]
  },
  {
   "cell_type": "markdown",
   "metadata": {},
   "source": [
    "### Conclusion"
   ]
  },
  {
   "cell_type": "markdown",
   "metadata": {},
   "source": [
    "All the models are performing good on the on time class and not so good on the 20+ day class. Since the optimization criteria has been for the precision i.e, we do not want to go after customers/invoices which will be paid on time and concentrate only on the invoices that are predicted to be late.\n",
    "\n",
    "Hence we need to select the model that gives the best precision on the 3 classes that belong to late payment.\n",
    "\n",
    "Decision Tree is the best performing for the 0-10 and 11-20 Days classes and XGBoost is the best performing for the 20+ Days class.\n",
    "\n",
    "All the model gives better performance when there are just 2 levels, on time and late but that would not add much value to the debt collection team as they wouln't know which items to go after early and late."
   ]
  },
  {
   "cell_type": "code",
   "execution_count": null,
   "metadata": {},
   "outputs": [],
   "source": []
  }
 ],
 "metadata": {
  "kernelspec": {
   "display_name": "Python 3",
   "language": "python",
   "name": "python3"
  },
  "language_info": {
   "codemirror_mode": {
    "name": "ipython",
    "version": 3
   },
   "file_extension": ".py",
   "mimetype": "text/x-python",
   "name": "python",
   "nbconvert_exporter": "python",
   "pygments_lexer": "ipython3",
   "version": "3.7.1"
  }
 },
 "nbformat": 4,
 "nbformat_minor": 2
}
